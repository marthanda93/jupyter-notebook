{
 "cells": [
  {
   "cell_type": "code",
   "execution_count": 5,
   "id": "a17c4077",
   "metadata": {},
   "outputs": [
    {
     "name": "stdout",
     "output_type": "stream",
     "text": [
      "10\n"
     ]
    }
   ],
   "source": [
    "def sum_of_elements(*arg):\n",
    "    total = 0\n",
    "    for i in arg:\n",
    "        total += i\n",
    "\n",
    "    return total\n",
    "\n",
    "result = sum_of_elements(*[1, 2, 3, 4])\n",
    "print(result)"
   ]
  },
  {
   "cell_type": "code",
   "execution_count": 6,
   "id": "2f97c9d1",
   "metadata": {},
   "outputs": [],
   "source": [
    "my_list = [1, 2, 3, 4]\n",
    "\n",
    "odd = filter(lambda x: x % 2 == 1, my_list)\n",
    "squared = map(lambda x: x ** 2, my_list)\n",
    "my_set = frozenset(['a', 'b', 'c', 'd'])"
   ]
  },
  {
   "cell_type": "code",
   "execution_count": 13,
   "id": "8ef66071",
   "metadata": {},
   "outputs": [
    {
     "name": "stdout",
     "output_type": "stream",
     "text": [
      "{'name': 'Fatos', 'surname': 'Morina', 'location': 'Munich'}\n"
     ]
    }
   ],
   "source": [
    "f_dictionary = {'name': 'Fatos', 'location': 'Munich'}\n",
    "s_dictionary = {'name': 'Fatos', 'surname': 'Morina', 'location': 'Bavaria, Munich'}\n",
    "result = f_dictionary | s_dictionary\n",
    "merged = {**f_dictionary, **s_dictionary}\n",
    "print(result)"
   ]
  },
  {
   "cell_type": "code",
   "execution_count": 14,
   "id": "164b544f",
   "metadata": {},
   "outputs": [
    {
     "name": "stdout",
     "output_type": "stream",
     "text": [
      "3\n"
     ]
    }
   ],
   "source": [
    "books = ('Atomic habits', 'Ego is the enemy', 'Outliers', 'Mastery')\n",
    "print(books.index('Mastery'))"
   ]
  },
  {
   "cell_type": "code",
   "execution_count": 15,
   "id": "21009178",
   "metadata": {},
   "outputs": [
    {
     "name": "stdout",
     "output_type": "stream",
     "text": [
      "[[1, 2, 3], [4, 5, 6]]\n"
     ]
    }
   ],
   "source": [
    "import ast\n",
    "\n",
    "def string_to_list(string):\n",
    "    return ast.literal_eval(string)\n",
    "\n",
    "string = \"[[1, 2, 3],[4, 5, 6]]\"\n",
    "my_list = string_to_list(string)\n",
    "print(my_list)"
   ]
  },
  {
   "cell_type": "code",
   "execution_count": null,
   "id": "9aa472b2",
   "metadata": {},
   "outputs": [],
   "source": [
    "print(\"29\", \"01\", \"2022\", sep=\"/\")\n",
    "print(\"29\", \"01\", \"2022\", end=\"---\")"
   ]
  },
  {
   "cell_type": "code",
   "execution_count": 16,
   "id": "00d6a70b",
   "metadata": {},
   "outputs": [
    {
     "name": "stdout",
     "output_type": "stream",
     "text": [
      "True\n",
      "True\n",
      "False\n"
     ]
    }
   ],
   "source": [
    "def check_if_anagram(first_word, second_word):\n",
    "    first_word = first_word.lower()\n",
    "    second_word = second_word.lower()\n",
    "    return sorted(first_word) == sorted(second_word)\n",
    "\n",
    "print(check_if_anagram(\"testinG\", \"Testing\"))\n",
    "print(check_if_anagram(\"Here\", \"Rehe\"))\n",
    "print(check_if_anagram(\"Know\", \"Now\"))"
   ]
  },
  {
   "cell_type": "code",
   "execution_count": 1,
   "id": "6236f012",
   "metadata": {},
   "outputs": [
    {
     "name": "stdout",
     "output_type": "stream",
     "text": [
      "62000\n"
     ]
    }
   ],
   "source": [
    "class Engineer:\n",
    "    def __init__(self, name):\n",
    "        self.name = name\n",
    "        self.__starting_salary = 62000\n",
    "\n",
    "\n",
    "dain = Engineer('Dain')\n",
    "print(dain._Engineer__starting_salary)"
   ]
  },
  {
   "cell_type": "code",
   "execution_count": 2,
   "id": "c6daefc7",
   "metadata": {},
   "outputs": [
    {
     "name": "stdout",
     "output_type": "stream",
     "text": [
      "ETH Zürich\n"
     ]
    }
   ],
   "source": [
    "# Calling the parent’s class initializer using super():\n",
    "class Parent:\n",
    "    def __init__(self, city, address):\n",
    "        self.city = city\n",
    "        self.address = address\n",
    "\n",
    "class Child(Parent):\n",
    "    def __init__(self, city, address, university):\n",
    "        super().__init__(city, address)\n",
    "        self.university = university\n",
    "\n",
    "child = Child('Zürich', 'Rämistrasse 101', 'ETH Zürich')\n",
    "print(child.university)"
   ]
  },
  {
   "cell_type": "code",
   "execution_count": 3,
   "id": "911592e5",
   "metadata": {},
   "outputs": [
    {
     "name": "stdout",
     "output_type": "stream",
     "text": [
      "ETH Zürich\n"
     ]
    }
   ],
   "source": [
    "# Calling the parent’s class using the parent class’s name:\n",
    "class Parent:\n",
    "    def __init__(self, city, address):\n",
    "        self.city = city\n",
    "        self.address = address\n",
    "\n",
    "class Child(Parent):\n",
    "    def __init__(self, city, address, university):\n",
    "        Parent.__init__(self, city, address)\n",
    "        self.university = university\n",
    "\n",
    "child = Child('Zürich', 'Rämistrasse 101', 'ETH Zürich')\n",
    "print(child.university)"
   ]
  },
  {
   "cell_type": "code",
   "execution_count": 4,
   "id": "a7d632c7",
   "metadata": {},
   "outputs": [
    {
     "name": "stdout",
     "output_type": "stream",
     "text": [
      "False\n",
      "True\n",
      "False\n",
      "True\n"
     ]
    }
   ],
   "source": [
    "a = {}\n",
    "b = {1:1}\n",
    "\n",
    "print(bool(a))\n",
    "print(bool(b))\n",
    "\n",
    "c = []\n",
    "d = [1]\n",
    "\n",
    "print(bool(c))\n",
    "print(bool(d))"
   ]
  },
  {
   "cell_type": "code",
   "execution_count": null,
   "id": "ff5f8ffd",
   "metadata": {},
   "outputs": [],
   "source": []
  }
 ],
 "metadata": {
  "kernelspec": {
   "display_name": "Python 3 (ipykernel)",
   "language": "python",
   "name": "python3"
  },
  "language_info": {
   "codemirror_mode": {
    "name": "ipython",
    "version": 3
   },
   "file_extension": ".py",
   "mimetype": "text/x-python",
   "name": "python",
   "nbconvert_exporter": "python",
   "pygments_lexer": "ipython3",
   "version": "3.9.7"
  }
 },
 "nbformat": 4,
 "nbformat_minor": 5
}
