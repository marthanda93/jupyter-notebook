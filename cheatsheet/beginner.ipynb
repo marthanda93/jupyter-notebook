{
 "cells": [
  {
   "cell_type": "code",
   "execution_count": 10,
   "id": "a17c4077",
   "metadata": {},
   "outputs": [
    {
     "name": "stdout",
     "output_type": "stream",
     "text": [
      "20 10\n",
      "Reverse is skeeGroFskeeG\n"
     ]
    }
   ],
   "source": [
    "# In-Place Swapping Of Two Numbers\n",
    "x, y = 10, 20\n",
    "x, y = y, x\n",
    "print(x, y)\n",
    "\n",
    "# Reversing a string in Python\n",
    "print(\"Reverse is\", \"GeeksForGeeks\"[::-1])\n",
    "\n",
    "# Ternary Operator\n",
    "x = 10 if (y == 9) else 20\n",
    "# x = (classA if y == 1 else classB)(param1, param2)\n",
    "# [m**2 if m > 10 else m**4 for m in range(50)]\n",
    "\n",
    "a = [\"Geeks\", \"For\", \"Geeks\"]\n",
    "print(\" \".join(a))\n",
    "\n",
    "multiStr = \"select * from multi_row \\\n",
    "where row_id < 5\"\n",
    "\n",
    "multiStr = \"\"\"select * from multi_row \n",
    "where row_id < 5\"\"\"\n",
    "\n",
    "multiStr= (\"select * from multi_row \"\n",
    "\"where row_id < 5 \"\n",
    "\"order by age\") "
   ]
  },
  {
   "cell_type": "code",
   "execution_count": 23,
   "id": "beac861a",
   "metadata": {},
   "outputs": [
    {
     "name": "stdout",
     "output_type": "stream",
     "text": [
      "hello, and welcome to my world!\n",
      "hello my friends\n",
      "HELLO MY FRIENDS\n",
      "Hello, and welcome to my world.\n",
      "2\n",
      "True\n",
      "True\n",
      "7\n",
      "('I could eat ', 'bananas', ' all day')\n",
      "I like apples\n",
      "['apple', 'banana', 'cherry', 'orange']\n",
      "banana\n",
      "banana\n",
      "hELLO mY nAME iS peter\n"
     ]
    }
   ],
   "source": [
    "print(\"Hello, And Welcome To My World!\".casefold())\n",
    "print(\"Hello my FRIENDS\".lower())\n",
    "print(\"Hello my friends\".upper())\n",
    "print(\"hello, and welcome to my world.\".capitalize())\n",
    "print(\"I love apples, apple are my favorite fruit\".count(\"apple\"))\n",
    "\n",
    "print(\"Hello, welcome to my world.\".endswith(\".\"))\n",
    "print(\"Hello, welcome to my world.\".startswith(\"Hello\"))\n",
    "\n",
    "# finds the first occurrence of the specified value. returns -1 if the value is not found.\n",
    "print(\"Hello, welcome to my world.\".find(\"welcome\", 5))\n",
    "\n",
    "print(\"I could eat bananas all day\".partition(\"bananas\"))\n",
    "print(\"I like bananas\".replace(\"bananas\", \"apples\"))\n",
    "\n",
    "# string.split(separator, maxsplit)\n",
    "print(\"apple#banana#cherry#orange\".split(\"#\", 3))\n",
    "print(\"     banana     \".strip())\n",
    "print(\",,,,,rrttgg.....banana....rrr\".strip(\",.grt\"))\n",
    "\n",
    "print(\"Hello My Name Is PETER\".swapcase())"
   ]
  },
  {
   "cell_type": "code",
   "execution_count": 29,
   "id": "f26bf440",
   "metadata": {},
   "outputs": [
    {
     "name": "stdout",
     "output_type": "stream",
     "text": [
      "['apple', 'banana', 'cherry', 'orange']\n",
      "['apple', 'banana', 'cherry', ['Ford', 'BMW', 'Volvo']]\n",
      "1\n",
      "[]\n",
      "['apple', 'banana', 'cherry', 'hello']\n",
      "['apple', 'banana', 'cherry']\n",
      "['apple', 'banana', 'cherry', 'Ford', 'BMW', 'Volvo']\n",
      "4\n"
     ]
    }
   ],
   "source": [
    "# Find The Most Frequent Value In A List.\n",
    "test = [1, 2, 3, 4, 2, 2, 3, 1, 4, 4, 4]\n",
    "max(set(test), key = test.count)\n",
    "\n",
    "fruits = ['apple', 'banana', 'cherry']\n",
    "fruits.append(\"orange\")\n",
    "print(fruits)\n",
    "\n",
    "a = [\"apple\", \"banana\", \"cherry\"]\n",
    "b = [\"Ford\", \"BMW\", \"Volvo\"]\n",
    "a.append(b)\n",
    "print(a)\n",
    "\n",
    "print(fruits.count(\"cherry\"))\n",
    "fruits.clear()\n",
    "print(fruits)\n",
    "\n",
    "fruits = [\"apple\", \"banana\", \"cherry\"]\n",
    "x = fruits.copy()\n",
    "x.append('hello')\n",
    "print(x)\n",
    "print(fruits)\n",
    "\n",
    "fruits = ['apple', 'banana', 'cherry']\n",
    "cars = ['Ford', 'BMW', 'Volvo']\n",
    "fruits.extend(cars)\n",
    "print(fruits)\n",
    "\n",
    "print(fruits.index('BMW'))"
   ]
  },
  {
   "cell_type": "code",
   "execution_count": 12,
   "id": "975e8d9f",
   "metadata": {},
   "outputs": [
    {
     "name": "stdout",
     "output_type": "stream",
     "text": [
      "0\n",
      "1\n",
      "2\n",
      "3\n"
     ]
    }
   ],
   "source": [
    "class Shapes:\n",
    "    Circle, Square, Triangle, Quadrangle = range(4)\n",
    "\n",
    "print(Shapes.Circle)\n",
    "print(Shapes.Square)\n",
    "print(Shapes.Triangle)\n",
    "print(Shapes.Quadrangle)"
   ]
  },
  {
   "cell_type": "code",
   "execution_count": 5,
   "id": "ed3e0275",
   "metadata": {},
   "outputs": [
    {
     "name": "stdout",
     "output_type": "stream",
     "text": [
      "10\n"
     ]
    }
   ],
   "source": [
    "def sum_of_elements(*arg):\n",
    "    total = 0\n",
    "    for i in arg:\n",
    "        total += i\n",
    "\n",
    "    return total\n",
    "\n",
    "result = sum_of_elements(*[1, 2, 3, 4])\n",
    "print(result)"
   ]
  },
  {
   "cell_type": "code",
   "execution_count": 6,
   "id": "2f97c9d1",
   "metadata": {},
   "outputs": [],
   "source": [
    "my_list = [1, 2, 3, 4]\n",
    "\n",
    "odd = filter(lambda x: x % 2 == 1, my_list)\n",
    "squared = map(lambda x: x ** 2, my_list)\n",
    "my_set = frozenset(['a', 'b', 'c', 'd'])"
   ]
  },
  {
   "cell_type": "code",
   "execution_count": 13,
   "id": "8ef66071",
   "metadata": {},
   "outputs": [
    {
     "name": "stdout",
     "output_type": "stream",
     "text": [
      "{'name': 'Fatos', 'surname': 'Morina', 'location': 'Munich'}\n"
     ]
    }
   ],
   "source": [
    "f_dictionary = {'name': 'Fatos', 'location': 'Munich'}\n",
    "s_dictionary = {'name': 'Fatos', 'surname': 'Morina', 'location': 'Bavaria, Munich'}\n",
    "result = f_dictionary | s_dictionary\n",
    "merged = {**f_dictionary, **s_dictionary}\n",
    "print(result)"
   ]
  },
  {
   "cell_type": "code",
   "execution_count": 14,
   "id": "164b544f",
   "metadata": {},
   "outputs": [
    {
     "name": "stdout",
     "output_type": "stream",
     "text": [
      "3\n"
     ]
    }
   ],
   "source": [
    "books = ('Atomic habits', 'Ego is the enemy', 'Outliers', 'Mastery')\n",
    "print(books.index('Mastery'))"
   ]
  },
  {
   "cell_type": "code",
   "execution_count": 15,
   "id": "21009178",
   "metadata": {},
   "outputs": [
    {
     "name": "stdout",
     "output_type": "stream",
     "text": [
      "[[1, 2, 3], [4, 5, 6]]\n"
     ]
    }
   ],
   "source": [
    "import ast\n",
    "\n",
    "def string_to_list(string):\n",
    "    return ast.literal_eval(string)\n",
    "\n",
    "string = \"[[1, 2, 3],[4, 5, 6]]\"\n",
    "my_list = string_to_list(string)\n",
    "print(my_list)"
   ]
  },
  {
   "cell_type": "code",
   "execution_count": null,
   "id": "9aa472b2",
   "metadata": {},
   "outputs": [],
   "source": [
    "print(\"29\", \"01\", \"2022\", sep=\"/\")\n",
    "print(\"29\", \"01\", \"2022\", end=\"---\")"
   ]
  },
  {
   "cell_type": "code",
   "execution_count": 16,
   "id": "00d6a70b",
   "metadata": {},
   "outputs": [
    {
     "name": "stdout",
     "output_type": "stream",
     "text": [
      "True\n",
      "True\n",
      "False\n"
     ]
    }
   ],
   "source": [
    "def check_if_anagram(first_word, second_word):\n",
    "    first_word = first_word.lower()\n",
    "    second_word = second_word.lower()\n",
    "    return sorted(first_word) == sorted(second_word)\n",
    "\n",
    "print(check_if_anagram(\"testinG\", \"Testing\"))\n",
    "print(check_if_anagram(\"Here\", \"Rehe\"))\n",
    "print(check_if_anagram(\"Know\", \"Now\"))"
   ]
  },
  {
   "cell_type": "code",
   "execution_count": 1,
   "id": "6236f012",
   "metadata": {},
   "outputs": [
    {
     "name": "stdout",
     "output_type": "stream",
     "text": [
      "62000\n"
     ]
    }
   ],
   "source": [
    "class Engineer:\n",
    "    def __init__(self, name):\n",
    "        self.name = name\n",
    "        self.__starting_salary = 62000\n",
    "\n",
    "\n",
    "dain = Engineer('Dain')\n",
    "print(dain._Engineer__starting_salary)"
   ]
  },
  {
   "cell_type": "code",
   "execution_count": 2,
   "id": "c6daefc7",
   "metadata": {},
   "outputs": [
    {
     "name": "stdout",
     "output_type": "stream",
     "text": [
      "ETH Zürich\n"
     ]
    }
   ],
   "source": [
    "# Calling the parent’s class initializer using super():\n",
    "class Parent:\n",
    "    def __init__(self, city, address):\n",
    "        self.city = city\n",
    "        self.address = address\n",
    "\n",
    "class Child(Parent):\n",
    "    def __init__(self, city, address, university):\n",
    "        super().__init__(city, address)\n",
    "        self.university = university\n",
    "\n",
    "child = Child('Zürich', 'Rämistrasse 101', 'ETH Zürich')\n",
    "print(child.university)"
   ]
  },
  {
   "cell_type": "code",
   "execution_count": 3,
   "id": "911592e5",
   "metadata": {},
   "outputs": [
    {
     "name": "stdout",
     "output_type": "stream",
     "text": [
      "ETH Zürich\n"
     ]
    }
   ],
   "source": [
    "# Calling the parent’s class using the parent class’s name:\n",
    "class Parent:\n",
    "    def __init__(self, city, address):\n",
    "        self.city = city\n",
    "        self.address = address\n",
    "\n",
    "class Child(Parent):\n",
    "    def __init__(self, city, address, university):\n",
    "        Parent.__init__(self, city, address)\n",
    "        self.university = university\n",
    "\n",
    "child = Child('Zürich', 'Rämistrasse 101', 'ETH Zürich')\n",
    "print(child.university)"
   ]
  },
  {
   "cell_type": "code",
   "execution_count": 4,
   "id": "a7d632c7",
   "metadata": {},
   "outputs": [
    {
     "name": "stdout",
     "output_type": "stream",
     "text": [
      "False\n",
      "True\n",
      "False\n",
      "True\n"
     ]
    }
   ],
   "source": [
    "a = {}\n",
    "b = {1:1}\n",
    "\n",
    "print(bool(a))\n",
    "print(bool(b))\n",
    "\n",
    "c = []\n",
    "d = [1]\n",
    "\n",
    "print(bool(c))\n",
    "print(bool(d))"
   ]
  },
  {
   "cell_type": "code",
   "execution_count": null,
   "id": "6d3fc7c5",
   "metadata": {},
   "outputs": [],
   "source": []
  }
 ],
 "metadata": {
  "kernelspec": {
   "display_name": "Python 3 (ipykernel)",
   "language": "python",
   "name": "python3"
  },
  "language_info": {
   "codemirror_mode": {
    "name": "ipython",
    "version": 3
   },
   "file_extension": ".py",
   "mimetype": "text/x-python",
   "name": "python",
   "nbconvert_exporter": "python",
   "pygments_lexer": "ipython3",
   "version": "3.9.7"
  }
 },
 "nbformat": 4,
 "nbformat_minor": 5
}
