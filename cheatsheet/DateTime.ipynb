{
 "cells": [
  {
   "cell_type": "code",
   "execution_count": 3,
   "id": "171c8b7c",
   "metadata": {},
   "outputs": [
    {
     "name": "stdout",
     "output_type": "stream",
     "text": [
      "2022-06-14 05:40:15.156768\n",
      "2022\n",
      "Tuesday\n"
     ]
    }
   ],
   "source": [
    "import datetime\n",
    "\n",
    "now = datetime.datetime.now()\n",
    "print(now)\n",
    "print(now.year)\n",
    "print(now.strftime(\"%A\"))"
   ]
  },
  {
   "cell_type": "code",
   "execution_count": 10,
   "id": "23a6c346",
   "metadata": {},
   "outputs": [
    {
     "name": "stdout",
     "output_type": "stream",
     "text": [
      "2022-06-17 05:47:05.548347\n",
      "2022-06-11 05:47:05.548347\n"
     ]
    }
   ],
   "source": [
    "from datetime import datetime, timezone, timedelta\n",
    "\n",
    "now = datetime.now()\n",
    "print(now + timedelta(days=3))\n",
    "print(now + timedelta(days=-3))"
   ]
  },
  {
   "cell_type": "code",
   "execution_count": 8,
   "id": "db33d011",
   "metadata": {},
   "outputs": [
    {
     "name": "stdout",
     "output_type": "stream",
     "text": [
      "39 days, 0:00:00\n",
      "2022-06-14\n"
     ]
    }
   ],
   "source": [
    "from datetime import datetime, date\n",
    "\n",
    "date_format = \"%m/%d/%Y\"\n",
    "dayA = datetime.strptime('8/18/2008', date_format)\n",
    "dayB = datetime.strptime('9/26/2008', date_format)\n",
    "print(dayB - dayA)\n",
    "\n",
    "today = date.today()\n",
    "print(today)"
   ]
  },
  {
   "cell_type": "code",
   "execution_count": 9,
   "id": "dca085a7",
   "metadata": {},
   "outputs": [
    {
     "name": "stdout",
     "output_type": "stream",
     "text": [
      "years: 1 \n",
      "months: 3 \n",
      "days:27 \n",
      "hours: 9 \n",
      "minutes: 10\n"
     ]
    }
   ],
   "source": [
    "from datetime import datetime\n",
    "from dateutil import relativedelta\n",
    "\n",
    "##Aug 7 1989 8:10 pm\n",
    "date_1 = datetime(1989, 8, 7, 20, 10)\n",
    "\n",
    "##Dec 5 1990 5:20 am\n",
    "date_2 = datetime(1990, 12, 5, 5, 20)\n",
    "\n",
    "#This will find the difference between the two dates\n",
    "difference = relativedelta.relativedelta(date_2, date_1)\n",
    "\n",
    "years = difference.years\n",
    "months = difference.months\n",
    "days = difference.days\n",
    "hours = difference.hours\n",
    "minutes = difference.minutes\n",
    "\n",
    "print(\"years: {} \\nmonths: {} \\ndays:{} \\nhours: {} \\nminutes: {}\".format(years, months, days, hours, minutes))"
   ]
  },
  {
   "cell_type": "code",
   "execution_count": null,
   "id": "7b93f0b6",
   "metadata": {},
   "outputs": [],
   "source": []
  }
 ],
 "metadata": {
  "kernelspec": {
   "display_name": "Python 3 (ipykernel)",
   "language": "python",
   "name": "python3"
  },
  "language_info": {
   "codemirror_mode": {
    "name": "ipython",
    "version": 3
   },
   "file_extension": ".py",
   "mimetype": "text/x-python",
   "name": "python",
   "nbconvert_exporter": "python",
   "pygments_lexer": "ipython3",
   "version": "3.9.7"
  }
 },
 "nbformat": 4,
 "nbformat_minor": 5
}
