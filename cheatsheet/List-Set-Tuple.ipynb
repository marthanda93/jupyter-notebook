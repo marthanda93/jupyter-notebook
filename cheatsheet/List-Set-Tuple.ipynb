{
 "cells": [
  {
   "cell_type": "code",
   "execution_count": 1,
   "id": "f17d2bf5",
   "metadata": {},
   "outputs": [
    {
     "name": "stdout",
     "output_type": "stream",
     "text": [
      "['apple', 'orange', 'banana', 'cherry']\n",
      "['apple', 'cherry']\n",
      "['apple', 'cherry']\n",
      "['cherry', 'banana', 'apple']\n"
     ]
    }
   ],
   "source": [
    "fruits = ['apple', 'banana', 'cherry']\n",
    "fruits.insert(1, \"orange\")\n",
    "print(fruits)\n",
    "\n",
    "fruits = ['apple', 'banana', 'cherry']\n",
    "fruits.pop(1)\n",
    "print(fruits)\n",
    "\n",
    "fruits = ['apple', 'banana', 'cherry']\n",
    "fruits.remove(\"banana\")\n",
    "print(fruits)\n",
    "\n",
    "fruits = ['apple', 'banana', 'cherry']\n",
    "fruits.reverse()\n",
    "print(fruits)"
   ]
  },
  {
   "cell_type": "code",
   "execution_count": 2,
   "id": "57f525c0",
   "metadata": {},
   "outputs": [
    {
     "name": "stdout",
     "output_type": "stream",
     "text": [
      "[('one', 1, 'hello'), ('two', 2, 'hello'), ('three', 3, 'hello'), ('four', 4, 'hello')]\n",
      "[('hello', 'one', 1), ('hello', 'two', 2), ('hello', 'three', 3), ('hello', 'four', 4)]\n"
     ]
    }
   ],
   "source": [
    "data = [('one', 1), ('two', 2), ('three', 3), ('four', 4)]\n",
    "\n",
    "print([item + ('hello',) for item in data])\n",
    "print([('hello',) + item for item in data])"
   ]
  },
  {
   "cell_type": "code",
   "execution_count": null,
   "id": "007f7442",
   "metadata": {},
   "outputs": [],
   "source": []
  }
 ],
 "metadata": {
  "kernelspec": {
   "display_name": "Python 3 (ipykernel)",
   "language": "python",
   "name": "python3"
  },
  "language_info": {
   "codemirror_mode": {
    "name": "ipython",
    "version": 3
   },
   "file_extension": ".py",
   "mimetype": "text/x-python",
   "name": "python",
   "nbconvert_exporter": "python",
   "pygments_lexer": "ipython3",
   "version": "3.9.7"
  }
 },
 "nbformat": 4,
 "nbformat_minor": 5
}
