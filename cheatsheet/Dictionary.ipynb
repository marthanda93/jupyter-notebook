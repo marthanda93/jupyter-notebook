{
 "cells": [
  {
   "cell_type": "code",
   "execution_count": 1,
   "id": "73d5fbbc",
   "metadata": {},
   "outputs": [
    {
     "name": "stdout",
     "output_type": "stream",
     "text": [
      "{'brand': 'Ford', 'model': 'Mustang', 'year': 1964, 'poc': 'anand'}\n",
      "{'brand': 'Ford', 'model': 'Mustang', 'year': 1964}\n",
      "{'key1': 0, 'key2': 0, 'key3': 0}\n"
     ]
    }
   ],
   "source": [
    "car = { \"brand\": \"Ford\", \"model\": \"Mustang\", \"year\": 1964 }\n",
    "car.clear()\n",
    "\n",
    "car = { \"brand\": \"Ford\", \"model\": \"Mustang\", \"year\": 1964 }\n",
    "x = car.copy()\n",
    "\n",
    "x['poc'] = 'anand'\n",
    "print(x)\n",
    "print(car)\n",
    "\n",
    "x = ('key1', 'key2', 'key3')\n",
    "y = 0\n",
    "\n",
    "thisdict = dict.fromkeys(x, y)\n",
    "print(thisdict)"
   ]
  },
  {
   "cell_type": "markdown",
   "id": "c9c8e448",
   "metadata": {},
   "source": [
    "```dictionary.get(keyname, value)```\n",
    "value: Optional. A value to return if the specified key does not exist. Default value None"
   ]
  },
  {
   "cell_type": "code",
   "execution_count": 2,
   "id": "ff78932b",
   "metadata": {},
   "outputs": [
    {
     "name": "stdout",
     "output_type": "stream",
     "text": [
      "Mustang\n",
      "15000\n",
      "dict_items([('brand', 'Ford'), ('model', 'Mustang'), ('year', 1964)])\n",
      "dict_keys(['brand', 'model', 'year'])\n",
      "dict_values(['Ford', 'Mustang', 1964])\n",
      "{'brand': 'Ford', 'year': 1964}\n"
     ]
    }
   ],
   "source": [
    "car = { \"brand\": \"Ford\", \"model\": \"Mustang\", \"year\": 1964 }\n",
    "x = car.get(\"model\")\n",
    "print(x)\n",
    "\n",
    "x = car.get(\"price\", 15000)\n",
    "print(x)\n",
    "\n",
    "x = car.items()\n",
    "print(x)\n",
    "\n",
    "x = car.keys()\n",
    "print(x)\n",
    "\n",
    "x = car.values()\n",
    "print(x)\n",
    "\n",
    "car.pop(\"model\")\n",
    "print(car)"
   ]
  },
  {
   "cell_type": "code",
   "execution_count": 5,
   "id": "6b542a2f",
   "metadata": {},
   "outputs": [
    {
     "name": "stdout",
     "output_type": "stream",
     "text": [
      "{'brand': 'Ford', 'model': 'Mustang', 'year': 1964, 'color': 'White'}\n",
      "{'brand': 'Ford', 'model': 'Mustang', 'year': 1964}\n"
     ]
    }
   ],
   "source": [
    "# removes the item that was last inserted into the dictionary.\n",
    "car = { \"brand\": \"Ford\", \"model\": \"Mustang\", \"year\": 1964 }\n",
    "\n",
    "car.update({\"color\": \"White\"})\n",
    "print(car)\n",
    "\n",
    "car.popitem()\n",
    "print(car)"
   ]
  },
  {
   "cell_type": "code",
   "execution_count": null,
   "id": "e2751d73",
   "metadata": {},
   "outputs": [],
   "source": []
  }
 ],
 "metadata": {
  "kernelspec": {
   "display_name": "Python 3 (ipykernel)",
   "language": "python",
   "name": "python3"
  },
  "language_info": {
   "codemirror_mode": {
    "name": "ipython",
    "version": 3
   },
   "file_extension": ".py",
   "mimetype": "text/x-python",
   "name": "python",
   "nbconvert_exporter": "python",
   "pygments_lexer": "ipython3",
   "version": "3.9.7"
  }
 },
 "nbformat": 4,
 "nbformat_minor": 5
}
