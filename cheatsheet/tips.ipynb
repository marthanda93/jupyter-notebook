{
 "cells": [
  {
   "cell_type": "code",
   "execution_count": 2,
   "id": "006bc2e5",
   "metadata": {},
   "outputs": [
    {
     "name": "stdout",
     "output_type": "stream",
     "text": [
      "2022-06-12 08:09:27.970045 Sunday\n",
      "2022-06-11 08:09:27.970045 Saturday\n",
      "2022-06-10 08:09:27.970045 Friday\n",
      "2022-06-09 08:09:27.970045 Thursday\n",
      "2022-06-08 08:09:27.970045 Wednesday\n",
      "2022-06-07 08:09:27.970045 Tuesday\n",
      "2022-06-06 08:09:27.970045 Monday\n",
      "---\n",
      "2022-06-05 08:09:27.970045 Sunday\n",
      "2022-06-04 08:09:27.970045 Saturday\n",
      "2022-06-03 08:09:27.970045 Friday\n",
      "2022-06-02 08:09:27.970045 Thursday\n",
      "2022-06-01 08:09:27.970045 Wednesday\n",
      "2022-05-31 08:09:27.970045 Tuesday\n",
      "2022-05-30 08:09:27.970045 Monday\n",
      "---\n",
      "2022-05-29 08:09:27.970045 Sunday\n",
      "2022-05-28 08:09:27.970045 Saturday\n",
      "2022-05-27 08:09:27.970045 Friday\n",
      "2022-05-26 08:09:27.970045 Thursday\n",
      "2022-05-25 08:09:27.970045 Wednesday\n",
      "2022-05-24 08:09:27.970045 Tuesday\n",
      "2022-05-23 08:09:27.970045 Monday\n",
      "---\n"
     ]
    }
   ],
   "source": [
    "import datetime\n",
    "import calendar\n",
    "\n",
    "def days_generate(weeks):\n",
    "    d = datetime.datetime.today()\n",
    "    sun_offset = (d.weekday() - 6) % 7\n",
    "    sunday = d - datetime.timedelta(days=sun_offset)\n",
    "    for i in range(weeks):\n",
    "        for j in range(7):\n",
    "            pre_date = sunday + datetime.timedelta(days=int(\"-{}\".format(j)))\n",
    "            print(pre_date, calendar.day_name[pre_date.weekday()])\n",
    "            if calendar.day_name[pre_date.weekday()] == \"Monday\":\n",
    "                sunday = pre_date - datetime.timedelta(days=1)\n",
    "        print(\"---\")\n",
    "days_generate(3)"
   ]
  },
  {
   "cell_type": "markdown",
   "id": "0087bae8",
   "metadata": {},
   "source": [
    "### Check if list of keys present in dictionary"
   ]
  },
  {
   "cell_type": "code",
   "execution_count": 5,
   "id": "209fd93c",
   "metadata": {},
   "outputs": [
    {
     "name": "stdout",
     "output_type": "stream",
     "text": [
      "True\n",
      "False\n"
     ]
    }
   ],
   "source": [
    "grades = {\n",
    "    'alex' : 11,\n",
    "    'bob'  : 10,\n",
    "    'john' : 14,\n",
    "    'peter': 7\n",
    "}\n",
    "\n",
    "students = ('alex', 'john')\n",
    "print(set(students).issubset(grades))\n",
    "\n",
    "students = ('ben', 'tom')\n",
    "print(set(students).issubset(grades))\n",
    "\n",
    "if not (set(students) - grades.keys()):\n",
    "    print(\"All keys exist\")"
   ]
  },
  {
   "cell_type": "markdown",
   "id": "18287942",
   "metadata": {},
   "source": [
    "### Split a list into evenly sized chunks"
   ]
  },
  {
   "cell_type": "code",
   "execution_count": 7,
   "id": "5de24172",
   "metadata": {},
   "outputs": [
    {
     "data": {
      "text/plain": [
       "[['A', 'B', 'C', 'D', 'E'], ['F', 'G', 'H', 'I', 'J']]"
      ]
     },
     "execution_count": 7,
     "metadata": {},
     "output_type": "execute_result"
    }
   ],
   "source": [
    "mylist = ['A', 'B', 'C', 'D', 'E', 'F', 'G', 'H', 'I', 'J']\n",
    "chunk_size = 5\n",
    "\n",
    "[mylist[offset:offset+chunk_size] for offset in range(0, len(mylist), chunk_size)]\n",
    "# map(lambda offs: mylist[offset:offset+chunk_size], range(0, len(mylist), chunk_size))"
   ]
  },
  {
   "cell_type": "code",
   "execution_count": 10,
   "id": "a5a0546d",
   "metadata": {},
   "outputs": [
    {
     "name": "stdout",
     "output_type": "stream",
     "text": [
      "{'name': 'Frank', 'age': 39} <class 'dict'>\n",
      "{\"name\": \"Bob\", \"age\": 44, \"isEmployed\": true} <class 'str'>\n"
     ]
    }
   ],
   "source": [
    "import json\n",
    "\n",
    "jsonData = '{\"name\": \"Frank\", \"age\": 39}'\n",
    "data = json.loads(jsonData)\n",
    "print(data, type(data))\n",
    "\n",
    "pythonDictionary = {'name':'Bob', 'age':44, 'isEmployed':True}\n",
    "data = json.dumps(pythonDictionary)\n",
    "print(data, type(data))"
   ]
  },
  {
   "cell_type": "code",
   "execution_count": null,
   "id": "a11609fd",
   "metadata": {},
   "outputs": [],
   "source": []
  }
 ],
 "metadata": {
  "kernelspec": {
   "display_name": "Python 3 (ipykernel)",
   "language": "python",
   "name": "python3"
  },
  "language_info": {
   "codemirror_mode": {
    "name": "ipython",
    "version": 3
   },
   "file_extension": ".py",
   "mimetype": "text/x-python",
   "name": "python",
   "nbconvert_exporter": "python",
   "pygments_lexer": "ipython3",
   "version": "3.9.7"
  }
 },
 "nbformat": 4,
 "nbformat_minor": 5
}
