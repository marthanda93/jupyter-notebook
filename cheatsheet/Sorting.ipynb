{
 "cells": [
  {
   "cell_type": "code",
   "execution_count": 1,
   "id": "065a2ae6",
   "metadata": {},
   "outputs": [
    {
     "name": "stdout",
     "output_type": "stream",
     "text": [
      "['ab', 'cde', 'd', 'x']\n",
      "['x', 'd', 'cde', 'ab']\n",
      "['x', 'd', 'ab', 'cde']\n",
      "['cde', 'ab', 'x', 'd']\n",
      "['ab', 'cde', 'd', 'x']\n"
     ]
    }
   ],
   "source": [
    "li = ['x', 'ab', 'd', 'cde']\n",
    "print(sorted(li))\n",
    "print(sorted(li, reverse=True))\n",
    "print(sorted(li, key=len))\n",
    "print(sorted(li, key=len, reverse=True))\n",
    "print(sorted(li, key=str.lower))\n",
    "\n",
    "print(sorted([(5, 4), (3, 3), (3, 10)]))"
   ]
  },
  {
   "cell_type": "code",
   "execution_count": 7,
   "id": "7d5c1c3d",
   "metadata": {},
   "outputs": [
    {
     "name": "stdout",
     "output_type": "stream",
     "text": [
      "['d', 'bb', 'ccc', 'aaaa']\n",
      "['aaaa', 'bb', 'ccc', 'd']\n"
     ]
    }
   ],
   "source": [
    "strs = ['ccc', 'aaaa', 'd', 'bb']\n",
    "\n",
    "print(sorted(strs, key=len))\n",
    "print(sorted(strs, key=str.lower))"
   ]
  },
  {
   "cell_type": "code",
   "execution_count": 6,
   "id": "0b5ec565",
   "metadata": {},
   "outputs": [
    {
     "name": "stdout",
     "output_type": "stream",
     "text": [
      "['wa', 'zb', 'xc', 'yd']\n"
     ]
    }
   ],
   "source": [
    "def MyFn(s):\n",
    "    return s[-1]\n",
    "\n",
    "strs = ['xc', 'zb', 'yd' ,'wa']\n",
    "print(sorted(strs, key=MyFn))"
   ]
  },
  {
   "cell_type": "code",
   "execution_count": 3,
   "id": "2bdffd3a",
   "metadata": {},
   "outputs": [
    {
     "name": "stdout",
     "output_type": "stream",
     "text": [
      "[('Alex', 5), ('Bob', 20), ('Alice', 25)]\n",
      "[('Alex', 5), ('Bob', 20), ('Alice', 25)]\n",
      "[('Alex', 5), ('Bob', 20), ('Alice', 25)]\n",
      "[('Alice', 25), ('Alex', 5), ('Bob', 20)]\n",
      "['at', 'hello', 'test', 'this']\n",
      "[('at', 23), ('hello', 56), ('test', 43), ('this', 43)]\n",
      "['at', 'hello', 'test', 'this']\n",
      "['at', 'test', 'this', 'hello']\n"
     ]
    }
   ],
   "source": [
    "L = [(\"Alice\", 25), (\"Bob\", 20), (\"Alex\", 5)]\n",
    "\n",
    "def MyFn(s):\n",
    "    return s[-1]\n",
    "\n",
    "\n",
    "def custom_sort(t):\n",
    "    return t[1]\n",
    "\n",
    "print(sorted(L, key=MyFn))\n",
    "print(sorted(L, key=custom_sort))\n",
    "print(sorted(L, key=lambda x: x[1]))\n",
    "print(sorted(L, key=lambda x: len(x[0]), reverse=True))\n",
    "\n",
    "wordsFreqDict = {'hello': 56, 'at': 23, 'test': 43, 'this': 43}\n",
    "print(sorted(wordsFreqDict.keys()))   ## sorted by key\n",
    "print(sorted(wordsFreqDict.items()))    ## sorted by value\n",
    "print(sorted(wordsFreqDict))   ## sorted by key\n",
    "print(sorted(wordsFreqDict, key=wordsFreqDict.get))    ## sorted by value"
   ]
  },
  {
   "cell_type": "code",
   "execution_count": 4,
   "id": "855b5263",
   "metadata": {},
   "outputs": [
    {
     "name": "stdout",
     "output_type": "stream",
     "text": [
      "['winter', 'summer', 'spring', 'fall']\n",
      "['Bart', 'Homer', 'Lisa', 'Marge']\n",
      "Bart is 10 years old.\n",
      "Homer is 36 years old.\n",
      "Lisa is 8 years old.\n",
      "Marge is 35 years old.\n",
      "Lisa is 8 years old.\n",
      "Bart is 10 years old.\n",
      "Marge is 35 years old.\n",
      "Homer is 36 years old.\n"
     ]
    }
   ],
   "source": [
    "seasons = ('spring', 'summer', 'fall', 'winter')\n",
    "print(sorted(seasons, reverse=True))       # takes tuple, returns sorted list\n",
    "\n",
    "simpsons = {'Homer':36, 'Marge':35, 'Bart':10, 'Lisa':8}\n",
    "print(sorted(simpsons))                    # takes dict, returns sorted list of keys\n",
    "\n",
    "## Key Based\n",
    "for s in sorted(simpsons):\n",
    "    print(s, 'is', simpsons[s], 'years old.')\n",
    "\n",
    "## Value Based\n",
    "for s in sorted(simpsons, key=simpsons.get):\n",
    "    print(s, 'is', simpsons[s], 'years old.')"
   ]
  },
  {
   "cell_type": "code",
   "execution_count": 5,
   "id": "ef478356",
   "metadata": {},
   "outputs": [
    {
     "name": "stdout",
     "output_type": "stream",
     "text": [
      "[('u', 4), ('v', 1), ('w', 2)]\n",
      "[('v', 1), ('w', 2), ('u', 4)]\n",
      "[('u', 4), ('w', 2), ('v', 1)]\n"
     ]
    }
   ],
   "source": [
    "# By Key\n",
    "x = {'u': 4, 'w': 2, 'v': 1}\n",
    "print(sorted(x.items()))\n",
    "\n",
    "# By values\n",
    "print(sorted(x.items(), key=lambda item: item[1]))\n",
    "print(sorted(x.items(), key=lambda item: item[1], reverse=True))"
   ]
  },
  {
   "cell_type": "code",
   "execution_count": 8,
   "id": "36c45e93",
   "metadata": {},
   "outputs": [
    {
     "name": "stdout",
     "output_type": "stream",
     "text": [
      "[('Jimmy', 90, 22), ('Terence', 75, 12), ('David', 75, 20), ('Alison', 50, 18), ('John', 45, 12)]\n"
     ]
    }
   ],
   "source": [
    "participant_list = [\n",
    "    ('Alison', 50, 18),\n",
    "    ('Terence', 75, 12),\n",
    "    ('David', 75, 20),\n",
    "    ('Jimmy', 90, 22),\n",
    "    ('John', 45, 12)\n",
    "]\n",
    "\n",
    "sorted_list = sorted(participant_list, key=lambda item: (100-item[1], item[2]))\n",
    "print(sorted_list)"
   ]
  },
  {
   "cell_type": "code",
   "execution_count": 9,
   "id": "ed76e0aa",
   "metadata": {},
   "outputs": [
    {
     "data": {
      "text/plain": [
       "[False, 0, False, False, 1]"
      ]
     },
     "execution_count": 9,
     "metadata": {},
     "output_type": "execute_result"
    }
   ],
   "source": [
    "similar_values = [False, 0, 1, 'A' == 'B', 1 <= 0]\n",
    "sorted(similar_values)"
   ]
  },
  {
   "cell_type": "code",
   "execution_count": 10,
   "id": "f85e5724",
   "metadata": {},
   "outputs": [
    {
     "data": {
      "text/plain": [
       "['id1', 'id2', 'id3', 'id22', 'id30', 'id100']"
      ]
     },
     "execution_count": 10,
     "metadata": {},
     "output_type": "execute_result"
    }
   ],
   "source": [
    "ids = ['id1', 'id100', 'id2', 'id22', 'id3', 'id30']\n",
    "sorted(ids, key=lambda x: int(x[2:])) # ['id1', 'id2', 'id3', 'id22', 'id30', 'id100']"
   ]
  },
  {
   "cell_type": "code",
   "execution_count": 11,
   "id": "838e799a",
   "metadata": {},
   "outputs": [
    {
     "name": "stdout",
     "output_type": "stream",
     "text": [
      "[5, 1, 100, 34]\n",
      "[1, 5, 34, 100]\n"
     ]
    }
   ],
   "source": [
    "mixed_numbers = [5, \"1\", 100, \"34\"]\n",
    "\n",
    "\"\"\"\n",
    ">>> sorted(mixed_numbers)\n",
    "Traceback (most recent call last):\n",
    "  File \"<stdin>\", line 1, in <module>\n",
    "TypeError: '<' not supported between instances of 'str' and 'int'\n",
    "\"\"\"\n",
    "\n",
    "# List comprehension to convert all values to integers\n",
    "print([int(x) for x in mixed_numbers])\n",
    "print(sorted([int(x) for x in mixed_numbers]))"
   ]
  },
  {
   "cell_type": "code",
   "execution_count": null,
   "id": "dd74ae8f",
   "metadata": {},
   "outputs": [],
   "source": []
  }
 ],
 "metadata": {
  "kernelspec": {
   "display_name": "Python 3 (ipykernel)",
   "language": "python",
   "name": "python3"
  },
  "language_info": {
   "codemirror_mode": {
    "name": "ipython",
    "version": 3
   },
   "file_extension": ".py",
   "mimetype": "text/x-python",
   "name": "python",
   "nbconvert_exporter": "python",
   "pygments_lexer": "ipython3",
   "version": "3.9.7"
  }
 },
 "nbformat": 4,
 "nbformat_minor": 5
}
