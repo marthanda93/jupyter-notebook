{
 "cells": [
  {
   "cell_type": "markdown",
   "id": "36b0cc2d",
   "metadata": {},
   "source": [
    "### Prime number : a number that is divisible only by itself and 1 (e.g. 2, 3, 5, 7, 11)."
   ]
  },
  {
   "cell_type": "code",
   "execution_count": 2,
   "id": "815fb0bc",
   "metadata": {},
   "outputs": [
    {
     "name": "stdout",
     "output_type": "stream",
     "text": [
      "Prime numbers between 900 and 1000 are:\n",
      "907\n",
      "911\n",
      "919\n",
      "929\n",
      "937\n",
      "941\n",
      "947\n",
      "953\n",
      "967\n",
      "971\n",
      "977\n",
      "983\n",
      "991\n",
      "997\n"
     ]
    }
   ],
   "source": [
    "# Python program to display all the prime numbers within an interval\n",
    "\n",
    "# change the values of lower and upper for a different result\n",
    "lower = 900\n",
    "upper = 1000\n",
    "\n",
    "#lower = int(input(\"Enter lower range: \"))\n",
    "#upper = int(input(\"Enter upper range: \"))\n",
    "\n",
    "print(\"Prime numbers between\",lower,\"and\",upper,\"are:\")\n",
    "\n",
    "for num in range(lower,upper + 1):\n",
    "   if num > 1:\n",
    "       for i in range(2,num):\n",
    "           if (num % i) == 0:\n",
    "               break\n",
    "       else:\n",
    "           print(num)"
   ]
  },
  {
   "cell_type": "code",
   "execution_count": 7,
   "id": "1ef98598",
   "metadata": {},
   "outputs": [
    {
     "name": "stdout",
     "output_type": "stream",
     "text": [
      "101\n",
      "103\n",
      "107\n",
      "109\n",
      "113\n",
      "127\n",
      "131\n",
      "137\n",
      "139\n",
      "149\n",
      "151\n",
      "157\n",
      "163\n",
      "167\n",
      "173\n",
      "179\n",
      "181\n",
      "191\n",
      "193\n",
      "197\n",
      "199\n"
     ]
    }
   ],
   "source": [
    "# Write a Python program to print Prime Numbers between 100 and 200\n",
    "for num in range(100, 200):\n",
    "    if all(num%i != 0 for i in range(2, num)):\n",
    "        print(num)"
   ]
  },
  {
   "cell_type": "code",
   "execution_count": 3,
   "id": "cc0150aa",
   "metadata": {},
   "outputs": [
    {
     "name": "stdout",
     "output_type": "stream",
     "text": [
      "Enter a number: 5\n",
      "5 is Odd\n"
     ]
    }
   ],
   "source": [
    "num = int(input(\"Enter a number: \"))\n",
    "if (num % 2) == 0:\n",
    "   print(\"{0} is Even\".format(num))\n",
    "else:\n",
    "   print(\"{0} is Odd\".format(num))"
   ]
  },
  {
   "cell_type": "code",
   "execution_count": 4,
   "id": "1ebb0876",
   "metadata": {},
   "outputs": [
    {
     "name": "stdout",
     "output_type": "stream",
     "text": [
      "Enter a number: 90\n",
      "Positive number\n"
     ]
    }
   ],
   "source": [
    "num = float(input(\"Enter a number: \"))\n",
    "\n",
    "if num > 0:\n",
    "   print(\"Positive number\")\n",
    "elif num == 0:\n",
    "   print(\"Zero\")\n",
    "else:\n",
    "   print(\"Negative number\")"
   ]
  },
  {
   "cell_type": "markdown",
   "id": "7643b01a",
   "metadata": {},
   "source": [
    "### The *factorial* of 6 (denoted as 6!) is 1*2*3*4*5*6 = 720. Factorial is not defined for negative numbers and the factorial of zero is one, 0! = 1."
   ]
  },
  {
   "cell_type": "code",
   "execution_count": 5,
   "id": "4edf0fc5",
   "metadata": {},
   "outputs": [
    {
     "name": "stdout",
     "output_type": "stream",
     "text": [
      "The factorial of 7 is 5040\n"
     ]
    }
   ],
   "source": [
    "# Python program to find the factorial of a number provided by the user.\n",
    "\n",
    "# change the value for a different result\n",
    "num = 7\n",
    "\n",
    "# uncomment to take input from the user\n",
    "#num = int(input(\"Enter a number: \"))\n",
    "\n",
    "factorial = 1\n",
    "\n",
    "# check if the number is negative, positive or zero\n",
    "if num < 0:\n",
    "   print(\"Sorry, factorial does not exist for negative numbers\")\n",
    "elif num == 0:\n",
    "   print(\"The factorial of 0 is 1\")\n",
    "else:\n",
    "   for i in range(1,num + 1):\n",
    "       factorial = factorial*i\n",
    "   print(\"The factorial of\",num,\"is\",factorial)"
   ]
  },
  {
   "cell_type": "markdown",
   "id": "d203fe94",
   "metadata": {},
   "source": [
    "### A leap year is exactly divisible by 4 except for century years (years ending with 00). The century year is a leap year only if it is perfectly divisible by 400. For example,\n",
    "```2017 is not a leap year\n",
    "1900 is a not leap year\n",
    "2012 is a leap year\n",
    "2000 is a leap year```"
   ]
  },
  {
   "cell_type": "code",
   "execution_count": 6,
   "id": "f020485e",
   "metadata": {},
   "outputs": [
    {
     "name": "stdout",
     "output_type": "stream",
     "text": [
      "2000 is a leap year\n"
     ]
    }
   ],
   "source": [
    "year = 2000\n",
    "\n",
    "# To get year (integer input) from the user\n",
    "# year = int(input(\"Enter a year: \"))\n",
    "\n",
    "if (year % 4) == 0:\n",
    "   if (year % 100) == 0:\n",
    "       if (year % 400) == 0:\n",
    "           print(\"{0} is a leap year\".format(year))\n",
    "       else:\n",
    "           print(\"{0} is not a leap year\".format(year))\n",
    "   else:\n",
    "       print(\"{0} is a leap year\".format(year))\n",
    "else:\n",
    "   print(\"{0} is not a leap year\".format(year))"
   ]
  },
  {
   "cell_type": "code",
   "execution_count": 10,
   "id": "03018a0c",
   "metadata": {},
   "outputs": [
    {
     "name": "stdout",
     "output_type": "stream",
     "text": [
      "[61, 55, 45, 23, 11, 9, 5, 2, 1]\n"
     ]
    }
   ],
   "source": [
    "# Write a Sort function to sort the elements in a list without sort function(descending order)\n",
    "data_list = [23, 5, 55, 1, 45, 11, 9, 61, 2]\n",
    "new_list = []\n",
    "\n",
    "while data_list:\n",
    "    minimum = data_list[0]\n",
    "    for x in data_list:\n",
    "        if x > minimum:\n",
    "            minimum = x\n",
    "    new_list.append(minimum)\n",
    "    data_list.remove(minimum)\n",
    "\n",
    "print(new_list)"
   ]
  },
  {
   "cell_type": "code",
   "execution_count": 11,
   "id": "fdd34309",
   "metadata": {},
   "outputs": [
    {
     "name": "stdout",
     "output_type": "stream",
     "text": [
      "0\n",
      "1\n",
      "1\n",
      "2\n",
      "3\n",
      "5\n",
      "8\n",
      "13\n",
      "21\n",
      "34\n",
      "55\n",
      "89\n"
     ]
    }
   ],
   "source": [
    "# Write a python program to print Fibonacci Series\n",
    "def F(n):\n",
    "    if n == 0: return 0\n",
    "    elif n == 1: return 1\n",
    "    else: return F(n-1) + F(n-2)\n",
    "\n",
    "for i in range(0, 12):\n",
    "    print(F(i))"
   ]
  },
  {
   "cell_type": "code",
   "execution_count": 15,
   "id": "9544a0f0",
   "metadata": {},
   "outputs": [
    {
     "data": {
      "text/plain": [
       "True"
      ]
     },
     "execution_count": 15,
     "metadata": {},
     "output_type": "execute_result"
    }
   ],
   "source": [
    "# Write a Python program to check whether a string is a Palindrome or not\n",
    "def isPolindrome(s):\n",
    "    rev = ''.join(reversed(s))\n",
    "\n",
    "    if (s == rev):\n",
    "        return True\n",
    "    return False\n",
    "\n",
    "isPolindrome('ana')"
   ]
  },
  {
   "cell_type": "code",
   "execution_count": 17,
   "id": "820bb00b",
   "metadata": {},
   "outputs": [
    {
     "data": {
      "text/plain": [
       "{1, 2, 5}"
      ]
     },
     "execution_count": 17,
     "metadata": {},
     "output_type": "execute_result"
    }
   ],
   "source": [
    "# Write a Python program to print set of dublicates in a list\n",
    "l = [1,2,3,4,1,6,5,2,5]\n",
    "set([x for x in l if l.count(x) > 1])"
   ]
  },
  {
   "cell_type": "code",
   "execution_count": 18,
   "id": "dd0878bd",
   "metadata": {},
   "outputs": [],
   "source": [
    "# Binary Search\n",
    "def search(list, n):\n",
    "    l = 0\n",
    "    u = len(list) - 1\n",
    "\n",
    "    while l <= u:\n",
    "        mid = (l+u) // 2\n",
    "\n",
    "        if list[mid] == n:\n",
    "            pos = mid\n",
    "            return True\n",
    "        else:\n",
    "            if list[mid] < n:\n",
    "                l = mid\n",
    "            else:\n",
    "                u = mid"
   ]
  },
  {
   "cell_type": "code",
   "execution_count": 20,
   "id": "b7f6d2b1",
   "metadata": {},
   "outputs": [],
   "source": [
    "# Bubble Sort\n",
    "def sort(elements):\n",
    "    size = len(elements)\n",
    "\n",
    "    for i in range(size - 1):\n",
    "        swapped = False\n",
    "        for j in range(size - 1 - i):\n",
    "            if elements[j] > elements[j+1]:\n",
    "                tmp = elements[j]\n",
    "                elements[j] = elements[j+1]\n",
    "                elements[j+1] = tmp\n",
    "                swapped = True\n",
    "        if not swapped:\n",
    "            break"
   ]
  },
  {
   "cell_type": "code",
   "execution_count": 21,
   "id": "2be6700e",
   "metadata": {},
   "outputs": [
    {
     "name": "stdout",
     "output_type": "stream",
     "text": [
      "True\n",
      "False\n"
     ]
    }
   ],
   "source": [
    "# Checking if two words are anagrams\n",
    "from collections import Counter\n",
    "\n",
    "def is_anagram(str1, str2): \n",
    "    return Counter(str1) == Counter(str2) \n",
    "\n",
    "print(is_anagram('geek', 'eegk'))\n",
    "print(is_anagram('geek', 'peek'))"
   ]
  },
  {
   "cell_type": "markdown",
   "id": "60a3d74b",
   "metadata": {},
   "source": [
    "## Max Function"
   ]
  },
  {
   "cell_type": "code",
   "execution_count": 1,
   "id": "83f865fc",
   "metadata": {},
   "outputs": [
    {
     "name": "stdout",
     "output_type": "stream",
     "text": [
      "6\n"
     ]
    }
   ],
   "source": [
    "def large(arr):\n",
    "    #root element varible \n",
    "    max_ = arr[0]\n",
    "    for ele in arr:\n",
    "        if(ele > max_):\n",
    "           max_ = ele\n",
    "    return max_ \n",
    "\n",
    "list1 = [1,4,5,2,6]\n",
    "result = large(list1)\n",
    "print(result)"
   ]
  },
  {
   "cell_type": "code",
   "execution_count": 2,
   "id": "f93d0d9f",
   "metadata": {},
   "outputs": [
    {
     "name": "stdout",
     "output_type": "stream",
     "text": [
      "99\n"
     ]
    }
   ],
   "source": [
    "from functools import reduce\n",
    "\n",
    "list1 = [-1, 3, 7, 99, 0]\n",
    "print(reduce(lambda x, y: x if x > y else y,list1))"
   ]
  },
  {
   "cell_type": "code",
   "execution_count": 3,
   "id": "16b368c5",
   "metadata": {},
   "outputs": [
    {
     "name": "stdout",
     "output_type": "stream",
     "text": [
      "99\n"
     ]
    }
   ],
   "source": [
    "from functools import reduce\n",
    "\n",
    "list1 = [-1, 3, 7, 99, 0]\n",
    "print(reduce(lambda x, y: x if x > y else y,list1))"
   ]
  },
  {
   "cell_type": "code",
   "execution_count": 4,
   "id": "ea44062d",
   "metadata": {},
   "outputs": [
    {
     "name": "stdout",
     "output_type": "stream",
     "text": [
      "[99]\n"
     ]
    }
   ],
   "source": [
    "import heapq\n",
    "\n",
    "list1 = [-1, 3, 7, 99, 0]\n",
    "print(heapq.nlargest(1, list1))"
   ]
  },
  {
   "cell_type": "code",
   "execution_count": 5,
   "id": "2026f364",
   "metadata": {},
   "outputs": [
    {
     "name": "stdout",
     "output_type": "stream",
     "text": [
      "Largest element is: 99\n"
     ]
    }
   ],
   "source": [
    "list1 = [10, 20, 4, 45, 99]\n",
    "list1.sort()\n",
    "print(\"Largest element is:\", list1[-1])"
   ]
  },
  {
   "cell_type": "code",
   "execution_count": 6,
   "id": "f6e89dcc",
   "metadata": {},
   "outputs": [
    {
     "name": "stdout",
     "output_type": "stream",
     "text": [
      "Longest String is :  watermelon\n"
     ]
    }
   ],
   "source": [
    "# Find Longest String from List\n",
    "\n",
    "list1 = ['apple', 'banana', 'watermelon', 'orange'] \n",
    "\n",
    "max_len = -1\n",
    "for ele in list1: \n",
    "    if(len(ele) > max_len): \n",
    "        max_len = len(ele) \n",
    "        res = ele \n",
    "        \n",
    "print(\"Longest String is : \", res)"
   ]
  },
  {
   "cell_type": "code",
   "execution_count": 7,
   "id": "c006520d",
   "metadata": {},
   "outputs": [
    {
     "name": "stdout",
     "output_type": "stream",
     "text": [
      "Longest String is  :  watermelon\n"
     ]
    }
   ],
   "source": [
    "list1 = ['apple', 'banana', 'watermelon', 'orange'] \n",
    "res = max(list1, key=len) \n",
    "print(\"Longest String is  : \", res)"
   ]
  },
  {
   "cell_type": "markdown",
   "id": "efc645c0",
   "metadata": {},
   "source": [
    "### fibonacci number\n",
    "The Fibonacci numbers are the numbers in the following integer sequence.\n",
    "0, 1, 1, 2, 3, 5, 8, 13, 21, 34, 55, 89, 144, …….."
   ]
  },
  {
   "cell_type": "code",
   "execution_count": 8,
   "id": "c081895f",
   "metadata": {},
   "outputs": [
    {
     "name": "stdout",
     "output_type": "stream",
     "text": [
      "21\n"
     ]
    }
   ],
   "source": [
    "# Function for nth fibonacci number - Space Optimisataion \n",
    "# Taking 1st two fibonacci numbers as 0 and 1 \n",
    "\n",
    "def fibonacci(n): \n",
    "    a = 0\n",
    "    b = 1\n",
    "    if n < 0: \n",
    "        print(\"Incorrect input\") \n",
    "    elif n == 0: \n",
    "        return a \n",
    "    elif n == 1: \n",
    "        return b \n",
    "    else: \n",
    "        for i in range(2,n): \n",
    "            c = a + b\n",
    "            a = b\n",
    "            b = c\n",
    "        return b \n",
    "\n",
    "print(fibonacci(9))"
   ]
  },
  {
   "cell_type": "code",
   "execution_count": null,
   "id": "c4d76a13",
   "metadata": {},
   "outputs": [],
   "source": [
    "a=int(input(\"Enter the first number of the series \"))\n",
    "b=int(input(\"Enter the second number of the series \"))\n",
    "n=int(input(\"Enter the number of terms needed \"))\n",
    "print(a,b,end=\" \")\n",
    "while(n-2):\n",
    "    c=a+b\n",
    "    a=b\n",
    "    b=c\n",
    "    print(c,end=\" \")\n",
    "    n=n-1"
   ]
  },
  {
   "cell_type": "code",
   "execution_count": 1,
   "id": "ffcad0c6",
   "metadata": {},
   "outputs": [],
   "source": [
    "import functools\n",
    "\n",
    "@functools.lru_cache(maxsize=128)\n",
    "def fibonacci(n):\n",
    "  if n == 0:\n",
    "    return 0\n",
    "  elif n == 1:\n",
    "    return 1\n",
    "  return fibonacci(n - 1) + fibonacci(n-2)"
   ]
  },
  {
   "cell_type": "markdown",
   "id": "b0c116ab",
   "metadata": {},
   "source": [
    "### palindrome"
   ]
  },
  {
   "cell_type": "code",
   "execution_count": 2,
   "id": "28c48c8b",
   "metadata": {},
   "outputs": [
    {
     "name": "stdout",
     "output_type": "stream",
     "text": [
      "Yes\n"
     ]
    }
   ],
   "source": [
    "def isPalindrome(str):\n",
    "    for i in range(0, int(len(str)/2)):  \n",
    "        if str[i] != str[len(str)-i-1]: \n",
    "            return False\n",
    "    return True\n",
    "  \n",
    "# main function \n",
    "s = \"malayalam\"\n",
    "ans = isPalindrome(s) \n",
    "  \n",
    "if (ans): \n",
    "    print(\"Yes\") \n",
    "else: \n",
    "    print(\"No\")"
   ]
  },
  {
   "cell_type": "code",
   "execution_count": null,
   "id": "253c1c92",
   "metadata": {},
   "outputs": [],
   "source": [
    "## reverse string\n",
    "def reverse(s): \n",
    "  str = \"\" \n",
    "  for i in s:\n",
    "    str = i + str\n",
    "  return str\n",
    "\n",
    "## *Using recursion*\n",
    "def reverse(s):\n",
    "    if len(s) == 0:\n",
    "        return s\n",
    "    else:\n",
    "        return reverse(s[1:]) + s[0]"
   ]
  }
 ],
 "metadata": {
  "kernelspec": {
   "display_name": "Python 3 (ipykernel)",
   "language": "python",
   "name": "python3"
  },
  "language_info": {
   "codemirror_mode": {
    "name": "ipython",
    "version": 3
   },
   "file_extension": ".py",
   "mimetype": "text/x-python",
   "name": "python",
   "nbconvert_exporter": "python",
   "pygments_lexer": "ipython3",
   "version": "3.9.7"
  }
 },
 "nbformat": 4,
 "nbformat_minor": 5
}
