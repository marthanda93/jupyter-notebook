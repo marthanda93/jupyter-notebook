{
 "cells": [
  {
   "cell_type": "code",
   "execution_count": 11,
   "id": "a5ded5db",
   "metadata": {},
   "outputs": [
    {
     "data": {
      "text/plain": [
       "'\\nHTTP Addresses -->   ^http:\\\\/\\\\/\\\\S+(\\\\/\\\\S+)*(\\\\/)?$\\nFull Numeric Strings -->   ^[0-9]+$ or ^\\\\d+$\\nImage Filenames -->   ^\\\\w+\\\\.(gif|png|jpg|jpeg)$\\nEmail Addresses -->   ^\\\\w+([.-]?\\\\w+)*@\\\\w+([.-]?\\\\w+)*(\\\\.\\\\w{2,3})+$\\nSwapping Words using Parenthesized Back-References -->  ^(\\\\S+)\\\\s+(\\\\S+)$ and $2 $1\\n\\n\\\\d      any number (a digit)\\n\\\\D      anything but a number (a non-digit)\\n\\\\s      space (tab,space,newline etc.)\\n\\\\S      anything but a space\\n\\\\w      letters ( Match alphanumeric character, including \"_\")\\n\\\\W      matches any non-word(non-alphanumeric) character excluding \"_\"\\n\\x08      any character except for new line\\n\\n\\t      Matches tab.\\n\\n      Matches newline.\\n\\r      Matches return.\\n\\\\d      Matches decimal digit 0-9.\\n\\n\\n^     Caret: Starts with::\"^hello\"\\n.     Any character (except newline character)\\n$     Ends with::\"world$\"\\n*     Zero or more occurrences::\"aix*\"\\n+     One or more occurrences::\"aix+\"\\n|     Either or::\"falls|stays\"\\n()    parentheses: Capture and group\\n{}    Exactly the specified number of occurrences::\"al{2}\"\\n[]    A set of characters::\"[a-m]\"\\n\\n+ -- 1 or more occurrences of the pattern to its left, e.g. \\'i+\\' = one or more i\\n* -- 0 or more occurrences of the pattern to its left\\n? -- match 0 or 1 occurrences of the pattern to its left\\n\\n\\\\d      any number (a digit)\\n\\\\D      anything but a number (a non-digit)\\n\\\\s      space (tab,space,newline etc.)\\n\\\\S      anything but a space\\n\\\\w      letters ( Match alphanumeric character, including \"_\")\\n\\\\W      matches any non-word(non-alphanumeric) character excluding \"_\"\\n\\x08      any character except for new line\\n\\n\\t      Matches tab.\\n\\n      Matches newline.\\n\\r      Matches return.\\n\\\\d      Matches decimal digit 0-9.\\n\\n\\n^     Caret: Starts with::\"^hello\"\\n.     Any character (except newline character)\\n$     Ends with::\"world$\"\\n*     Zero or more occurrences::\"aix*\"\\n+     One or more occurrences::\"aix+\"\\n|     Either or::\"falls|stays\"\\n()    parentheses: Capture and group\\n{}    Exactly the specified number of occurrences::\"al{2}\"\\n[]    A set of characters::\"[a-m]\"\\n\\n+ -- 1 or more occurrences of the pattern to its left, e.g. \\'i+\\' = one or more i\\n* -- 0 or more occurrences of the pattern to its left\\n? -- match 0 or 1 occurrences of the pattern to its left\\n'"
      ]
     },
     "execution_count": 11,
     "metadata": {},
     "output_type": "execute_result"
    }
   ],
   "source": [
    "import re\n",
    "\n",
    "\"\"\"\n",
    "HTTP Addresses -->   ^http:\\/\\/\\S+(\\/\\S+)*(\\/)?$\n",
    "Full Numeric Strings -->   ^[0-9]+$ or ^\\d+$\n",
    "Image Filenames -->   ^\\w+\\.(gif|png|jpg|jpeg)$\n",
    "Email Addresses -->   ^\\w+([.-]?\\w+)*@\\w+([.-]?\\w+)*(\\.\\w{2,3})+$\n",
    "Swapping Words using Parenthesized Back-References -->  ^(\\S+)\\s+(\\S+)$ and $2 $1\n",
    "\n",
    "\\d      any number (a digit)\n",
    "\\D      anything but a number (a non-digit)\n",
    "\\s      space (tab,space,newline etc.)\n",
    "\\S      anything but a space\n",
    "\\w      letters ( Match alphanumeric character, including \"_\")\n",
    "\\W      matches any non-word(non-alphanumeric) character excluding \"_\"\n",
    "\\b      any character except for new line\n",
    "\n",
    "\\t      Matches tab.\n",
    "\\n      Matches newline.\n",
    "\\r      Matches return.\n",
    "\\d      Matches decimal digit 0-9.\n",
    "\n",
    "\n",
    "^     Caret: Starts with::\"^hello\"\n",
    ".     Any character (except newline character)\n",
    "$     Ends with::\"world$\"\n",
    "*     Zero or more occurrences::\"aix*\"\n",
    "+     One or more occurrences::\"aix+\"\n",
    "|     Either or::\"falls|stays\"\n",
    "()    parentheses: Capture and group\n",
    "{}    Exactly the specified number of occurrences::\"al{2}\"\n",
    "[]    A set of characters::\"[a-m]\"\n",
    "\n",
    "+ -- 1 or more occurrences of the pattern to its left, e.g. 'i+' = one or more i\n",
    "* -- 0 or more occurrences of the pattern to its left\n",
    "? -- match 0 or 1 occurrences of the pattern to its left\n",
    "\n",
    "\\d      any number (a digit)\n",
    "\\D      anything but a number (a non-digit)\n",
    "\\s      space (tab,space,newline etc.)\n",
    "\\S      anything but a space\n",
    "\\w      letters ( Match alphanumeric character, including \"_\")\n",
    "\\W      matches any non-word(non-alphanumeric) character excluding \"_\"\n",
    "\\b      any character except for new line\n",
    "\n",
    "\\t      Matches tab.\n",
    "\\n      Matches newline.\n",
    "\\r      Matches return.\n",
    "\\d      Matches decimal digit 0-9.\n",
    "\n",
    "\n",
    "^     Caret: Starts with::\"^hello\"\n",
    ".     Any character (except newline character)\n",
    "$     Ends with::\"world$\"\n",
    "*     Zero or more occurrences::\"aix*\"\n",
    "+     One or more occurrences::\"aix+\"\n",
    "|     Either or::\"falls|stays\"\n",
    "()    parentheses: Capture and group\n",
    "{}    Exactly the specified number of occurrences::\"al{2}\"\n",
    "[]    A set of characters::\"[a-m]\"\n",
    "\n",
    "+ -- 1 or more occurrences of the pattern to its left, e.g. 'i+' = one or more i\n",
    "* -- 0 or more occurrences of the pattern to its left\n",
    "? -- match 0 or 1 occurrences of the pattern to its left\n",
    "\"\"\""
   ]
  },
  {
   "cell_type": "code",
   "execution_count": 2,
   "id": "2899e778",
   "metadata": {},
   "outputs": [
    {
     "name": "stdout",
     "output_type": "stream",
     "text": [
      "['wood', 'would', 'woodchuck', 'woodchuck', 'wood']\n",
      "['o', 'oo', 'o', 'oo', 'oo', 'o', 'oo']\n",
      "[]\n"
     ]
    }
   ],
   "source": [
    "wood = 'How much wood would a woodchuck chuck if a woodchuck could chuck wood?'\n",
    "\n",
    "print(re.findall(r'wo\\w+', wood))\n",
    "print(re.findall(r'o+', wood))\n",
    "print(re.findall(r'e+', wood))"
   ]
  },
  {
   "cell_type": "markdown",
   "id": "c6986130",
   "metadata": {},
   "source": [
    "re.findall(): It returns all matched string portions as a list. If there are no matches, it will simply return an empty list."
   ]
  },
  {
   "cell_type": "code",
   "execution_count": 3,
   "id": "f08dcb93",
   "metadata": {},
   "outputs": [
    {
     "name": "stdout",
     "output_type": "stream",
     "text": [
      "['that', 'those']\n",
      "['This', 'that', 'those']\n"
     ]
    }
   ],
   "source": [
    "foo = 'This and that and those'\n",
    "\n",
    "print(re.findall(r'th\\w+', foo))\n",
    "print(re.findall(r'th\\w+', foo, re.IGNORECASE))    # case is ignored while matching"
   ]
  },
  {
   "cell_type": "markdown",
   "id": "ba9b59e2",
   "metadata": {},
   "source": [
    "What if you want to replace all matching portions with something else? It can be done using the *re.sub()* method."
   ]
  },
  {
   "cell_type": "code",
   "execution_count": 4,
   "id": "d9e6e7e3",
   "metadata": {},
   "outputs": [
    {
     "name": "stdout",
     "output_type": "stream",
     "text": [
      "H-w m-ch w-d w-ld - w-dch-ck ch-ck -f - w-dch-ck c-ld ch-ck w-d?\n",
      "Hw mch wd wld  wdchck chck f  wdchck cld chck wd?\n"
     ]
    }
   ],
   "source": [
    "wood = 'How much wood would a woodchuck chuck if a woodchuck could chuck wood?' \n",
    "\n",
    "print(re.sub(r'[aeiou]+', '-', wood))    # 3 args: regex, replacer string, target string\n",
    "# Removing the matching portions: just make the \"replacer\" string an empty string ''.\n",
    "print(re.sub(r'[aeiou]+', '', wood))    # substitute with an empty string"
   ]
  },
  {
   "cell_type": "code",
   "execution_count": 5,
   "id": "21db6208",
   "metadata": {},
   "outputs": [
    {
     "name": "stdout",
     "output_type": "stream",
     "text": [
      "['would', 'could']\n",
      "['furiously']\n",
      "['thought', 'throughout']\n"
     ]
    }
   ],
   "source": [
    "myre = re.compile(r'\\w+ou\\w+')     # compiling myre as a reg ex\n",
    "print(myre.findall(wood))          # calling .findall() directly on myre\n",
    "\n",
    "print(myre.findall('Colorless green ideas sleep furiously'))\n",
    "print(myre.findall('The thirty-three thieves thought that they thrilled the throne throughout Thursday.'))"
   ]
  },
  {
   "cell_type": "markdown",
   "id": "5e46488d",
   "metadata": {},
   "source": [
    "```.span() returns a tuple containing the start-, and end positions of the match.\n",
    ".string returns the string passed into the function\n",
    ".group() returns the part of the string where there was a match```"
   ]
  },
  {
   "cell_type": "code",
   "execution_count": 6,
   "id": "3e4d5741",
   "metadata": {},
   "outputs": [
    {
     "name": "stdout",
     "output_type": "stream",
     "text": [
      "<re.Match object; span=(5, 7), match='ai'>\n",
      "(12, 17)\n",
      "The rain in Spain\n",
      "Spain\n"
     ]
    }
   ],
   "source": [
    "str = \"The rain in Spain\"\n",
    "print(re.search(\"ai\", str))\n",
    "print(re.search(r\"\\bS\\w+\", str).span())\n",
    "print(re.search(r\"\\bS\\w+\", str).string)\n",
    "print(re.search(r\"\\bS\\w+\", str).group())"
   ]
  },
  {
   "cell_type": "markdown",
   "id": "dec9b373",
   "metadata": {},
   "source": [
    "In this context, *re.search()* is a good alternative. This method only finds the first match and then quits. If a match is found, it returns a \"match object\". But if not, it returns... nothing."
   ]
  },
  {
   "cell_type": "code",
   "execution_count": 7,
   "id": "7ad293d9",
   "metadata": {},
   "outputs": [
    {
     "name": "stdout",
     "output_type": "stream",
     "text": [
      "e\n",
      "did not find\n"
     ]
    }
   ],
   "source": [
    "print(re.search(r'e+', 'Colorless green ideas sleep furiously').group())\n",
    "\n",
    "\"\"\"\n",
    ">>> re.search(r'e+', wood).group()\n",
    "Traceback (most recent call last):\n",
    "  File \"<pyshell#25>\", line 1, in <module>\n",
    "    re.search(r'e+', wood).group()\n",
    "AttributeError: 'NoneType' object has no attribute 'group'\n",
    "\"\"\"\n",
    "\n",
    "str = 'an example word:cat!!'\n",
    "match = re.search(r'word:www', str)\n",
    "if match:\n",
    "    print('found', match.group()) ## 'found word:cat'\n",
    "else:\n",
    "    print('did not find')"
   ]
  },
  {
   "cell_type": "code",
   "execution_count": null,
   "id": "dd8aea6e",
   "metadata": {},
   "outputs": [],
   "source": [
    ">>> f = open('D:\\\\Lab\\\\ling1330\\\\bible-kjv.txt')\n",
    ">>> blines = f.readlines()\n",
    ">>> f.close()\n",
    ">>> smite = re.compile(r'sm(i|o)te\\w*')\n",
    ">>> for b in blines:\n",
    "        matchobj = smite.search(b)\n",
    "        if matchobj:         # True if matchobj is not \"nothing\"\n",
    "            print(matchobj.group(), '-', b, end='')\n",
    "\n",
    "smite - again smite any more every thing living, as I have done.\n",
    "smote - were with him, and smote the Rephaims in Ashteroth Karnaim, and the\n",
    "smite - hand of Esau: for I fear him, lest he will come and smite me, and the\n",
    "smote - 36:35 And Husham died, and Hadad the son of Bedad, who smote Midian in\n",
    "smitest - Wherefore smitest thou thy fellow?  2:14 And he said, Who made thee a\n",
    "smite - 3:20 And I will stretch out my hand, and smite Egypt with all my\n",
    "smite - behold, I will smite with the rod that is in mine hand upon the waters\n",
    "smote - up the rod, and smote the waters that were in the river, in the sight\n",
    "smite - 8:2 And if thou refuse to let them go, behold, I will smite all thy\n",
    "smite - rod, and smite the dust of the land, that it may become lice\n",
    "smotest - with thee of the elders of Israel; and thy rod, wherewith thou smotest\n",
    "smite - and thou shalt smite the rock, and there shall come water out of it,\n",
    "smiteth - 21:12 He that smiteth a man, so that he die, shall be surely put to\n",
    "smiteth - 21:15 And he that smiteth his father, or his mother, shall be surely\n",
    "smite - 21:18 And if men strive together, and one smite another with a stone,\n",
    "..."
   ]
  },
  {
   "cell_type": "code",
   "execution_count": 8,
   "id": "d8d73cb3",
   "metadata": {},
   "outputs": [
    {
     "name": "stdout",
     "output_type": "stream",
     "text": [
      "['The', 'rain', 'in', 'Spain']\n",
      "['The', 'rain in Spain']\n"
     ]
    }
   ],
   "source": [
    "str = \"The rain in Spain\"\n",
    "print(re.split(\"\\s\", str))\n",
    "print(re.split(\"\\s\", str, 1))"
   ]
  },
  {
   "cell_type": "code",
   "execution_count": 9,
   "id": "a5961eb1",
   "metadata": {},
   "outputs": [
    {
     "name": "stdout",
     "output_type": "stream",
     "text": [
      "['b@google', 'anand9@google']\n",
      "['alice-b@google.com', 'anand9@google.com']\n",
      "alice-b@google.com\n",
      "alice-b\n",
      "google.com\n",
      "[('alice', 'google.com'), ('bob', 'abc.com')]\n"
     ]
    }
   ],
   "source": [
    "str = 'purple alice-b@google.com monkey dishwasher anand9@google.com'\n",
    "\n",
    "print(re.findall(r'\\w+@\\w+', str))\n",
    "print(re.findall(r'[\\w.-]+@[\\w.-]+', str))\n",
    "\n",
    "str = 'purple alice-b@google.com monkey dishwasher'\n",
    "match = re.search(r'([\\w.-]+)@([\\w.-]+)', str)\n",
    "if match:\n",
    "    print(match.group())   ## 'alice-b@google.com' (the whole match)\n",
    "    print(match.group(1))  ## 'alice-b' (the username, group 1)\n",
    "    print(match.group(2))  ## 'google.com' (the host, group 2)\n",
    "\n",
    "\n",
    "str = 'purple alice@google.com, blah monkey bob@abc.com blah dishwasher'\n",
    "print(re.findall(r'([\\w\\.-]+)@([\\w\\.-]+)', str))"
   ]
  },
  {
   "cell_type": "code",
   "execution_count": null,
   "id": "eb2f995c",
   "metadata": {},
   "outputs": [],
   "source": []
  }
 ],
 "metadata": {
  "kernelspec": {
   "display_name": "Python 3 (ipykernel)",
   "language": "python",
   "name": "python3"
  },
  "language_info": {
   "codemirror_mode": {
    "name": "ipython",
    "version": 3
   },
   "file_extension": ".py",
   "mimetype": "text/x-python",
   "name": "python",
   "nbconvert_exporter": "python",
   "pygments_lexer": "ipython3",
   "version": "3.9.7"
  }
 },
 "nbformat": 4,
 "nbformat_minor": 5
}
